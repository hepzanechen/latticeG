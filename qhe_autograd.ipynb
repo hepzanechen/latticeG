{
 "cells": [
  {
   "cell_type": "code",
   "execution_count": 2,
   "metadata": {},
   "outputs": [],
   "source": [
    "import torch\n",
    "from calculations.calculation_cf_autograd import calculation_cf_autograd\n",
    "from hamiltonians.Central import CentralBdG\n",
    "from hamiltonians.Lead import Lead"
   ]
  },
  {
   "cell_type": "code",
   "execution_count": 3,
   "metadata": {},
   "outputs": [],
   "source": [
    "# Lattice dimensions\n",
    "Nx = 50  # Length of the system\n",
    "Ny = 30  # Width of the system\n",
    "\n",
    "# Hopping parameters\n",
    "t_x = torch.tensor(1.0, dtype=torch.complex64)\n",
    "t_y = torch.tensor(1.0, dtype=torch.complex64)\n",
    "\n",
    "# Magnetic flux per plaquette (related to magnetic field)\n",
    "phi = torch.tensor(0.02, dtype=torch.float32)\n",
    "\n",
    "# Disorder potential strength\n",
    "U0 = torch.tensor(0.3, dtype=torch.float32)\n",
    "\n",
    "# Other parameters\n",
    "eta = 1e-5  # Small imaginary part for regularization\n",
    "max_derivative_order = 2  # Maximum order of derivatives to compute"
   ]
  },
  {
   "cell_type": "markdown",
   "metadata": {},
   "source": [
    "\n",
    "2. **Define Simulation Parameters**\n",
    "\n",
    "   Set up the parameters for your simulation, such as lattice dimensions, hopping parameters, magnetic field strength, and disorder potential.\n",
    "\n",
    "   ```python\n",
    "\n",
    "   ```\n",
    "\n",
    "3. **Construct the Central Hamiltonian with Magnetic Field and Disorder**\n",
    "\n",
    "   Use your `CentralBdG` class from \n",
    "\n",
    "Central.py\n",
    "\n",
    " to construct the Hamiltonian of the central region, incorporating the effects of the magnetic field and disorder.\n",
    "\n"
   ]
  },
  {
   "cell_type": "code",
   "execution_count": 4,
   "metadata": {},
   "outputs": [],
   "source": [
    "# Define the magnetic vector potential function or Peierls phase\n",
    "def peierls_phase(x_i, y_i, x_j, y_j, phi):\n",
    "    return torch.exp(-0.5j * phi * (x_i - x_j) * (y_i + y_j))\n",
    "\n",
    "# Create an instance of CentralBdG with appropriate parameters\n",
    "central_hamiltonian = CentralBdG(\n",
    "    Ny=Ny,\n",
    "    Nx=Nx,\n",
    "    t_y=t_y,\n",
    "    t_x=t_x,\n",
    "    Delta=torch.tensor(0.0, dtype=torch.complex64)\n",
    ")\n",
    "\n",
    "# Modify the Hamiltonian to include magnetic field and disorder\n",
    "H_BdG = central_hamiltonian.H_full_BdG.clone()\n",
    "\n",
    "# Apply Peierls substitution for magnetic field\n",
    "# (This step requires modifying the hopping terms in H_BdG using peierls_phase)\n",
    "\n",
    "# Add disorder potential to onsite energies\n",
    "disorder = U0 * (torch.rand(Nx * Ny) - 0.5)\n",
    "for idx in range(Nx * Ny):\n",
    "    H_BdG[idx, idx] += disorder[idx]"
   ]
  },
  {
   "cell_type": "markdown",
   "metadata": {},
   "source": [
    "\n",
    "\n",
    "4. **Define Leads Information**\n",
    "\n",
    "   Set up the lead parameters using your `Lead` class from \n",
    "\n",
    "Lead.py\n",
    "\n",
    ".\n",
    "\n"
   ]
  },
  {
   "cell_type": "code",
   "execution_count": 5,
   "metadata": {},
   "outputs": [
    {
     "ename": "TypeError",
     "evalue": "Lead.__init__() got an unexpected keyword argument 't'",
     "output_type": "error",
     "traceback": [
      "\u001b[0;31m---------------------------------------------------------------------------\u001b[0m",
      "\u001b[0;31mTypeError\u001b[0m                                 Traceback (most recent call last)",
      "Cell \u001b[0;32mIn[5], line 2\u001b[0m\n\u001b[1;32m      1\u001b[0m \u001b[38;5;66;03m# Define lead parameters\u001b[39;00m\n\u001b[0;32m----> 2\u001b[0m lead \u001b[38;5;241m=\u001b[39m \u001b[43mLead\u001b[49m\u001b[43m(\u001b[49m\n\u001b[1;32m      3\u001b[0m \u001b[43m    \u001b[49m\u001b[43mt\u001b[49m\u001b[38;5;241;43m=\u001b[39;49m\u001b[43mt_x\u001b[49m\u001b[43m,\u001b[49m\n\u001b[1;32m      4\u001b[0m \u001b[43m    \u001b[49m\u001b[43mepsilon\u001b[49m\u001b[38;5;241;43m=\u001b[39;49m\u001b[38;5;241;43m4\u001b[39;49m\u001b[43m \u001b[49m\u001b[38;5;241;43m*\u001b[39;49m\u001b[43m \u001b[49m\u001b[43mt_x\u001b[49m\u001b[43m,\u001b[49m\u001b[43m  \u001b[49m\u001b[38;5;66;43;03m# Adjust according to your model\u001b[39;49;00m\n\u001b[1;32m      5\u001b[0m \u001b[43m    \u001b[49m\u001b[38;5;66;43;03m# Include other necessary parameters\u001b[39;49;00m\n\u001b[1;32m      6\u001b[0m \u001b[43m)\u001b[49m\n\u001b[1;32m      8\u001b[0m \u001b[38;5;66;03m# Leads information list\u001b[39;00m\n\u001b[1;32m      9\u001b[0m leads_info \u001b[38;5;241m=\u001b[39m [lead]  \u001b[38;5;66;03m# Add more leads if necessary\u001b[39;00m\n",
      "\u001b[0;31mTypeError\u001b[0m: Lead.__init__() got an unexpected keyword argument 't'"
     ]
    }
   ],
   "source": [
    "# Define lead parameters\n",
    "lead = Lead(\n",
    "    t=t_x,\n",
    "    epsilon=4 * t_x,  # Adjust according to your model\n",
    "    # Include other necessary parameters\n",
    ")\n",
    "\n",
    "# Leads information list\n",
    "leads_info = [lead]  # Add more leads if necessary"
   ]
  },
  {
   "cell_type": "markdown",
   "metadata": {},
   "source": [
    "\n",
    "\n",
    "5. **Compute Energy Values**\n",
    "\n",
    "   Define the energy range over which you want to perform the calculations.\n",
    "\n",
    "   ```python\n",
    "   # Energy values\n",
    "   E_values = torch.linspace(0.0, 0.3, steps=100)  # Adjust the range and steps as needed\n",
    "   ```\n",
    "\n",
    "6. **Calculate the Generating Function and Its Derivatives**\n",
    "\n",
    "   Use the \n",
    "\n",
    "calculation_cf_autograd\n",
    "\n",
    " function to compute the generating function and its derivatives.\n",
    "\n"
   ]
  },
  {
   "cell_type": "code",
   "execution_count": null,
   "metadata": {},
   "outputs": [],
   "source": [
    "# Calculate generating function and derivatives\n",
    "results = calculation_cf_autograd(\n",
    "    H_BdG=H_BdG,\n",
    "    E_batch=E_values,\n",
    "    eta=eta,\n",
    "    leads_info=leads_info,\n",
    "    max_derivative_order=max_derivative_order\n",
    ")\n",
    "\n",
    "# Extract results\n",
    "gen_func_values_real = results['gen_func_values_real']\n",
    "gen_func_values_imag = results['gen_func_values_imag']\n",
    "derivatives = results['derivatives']"
   ]
  },
  {
   "cell_type": "markdown",
   "metadata": {},
   "source": [
    "\n",
    "\n",
    "7. **Analyze and Visualize the Results**\n",
    "\n",
    "   Plot the results to visualize the Quantum Hall effect and the impact of disorder.\n",
    "\n",
    "   ```python\n",
    "   import matplotlib.pyplot as plt\n",
    "\n",
    "   # Plot the real part of the generating function\n",
    "   plt.figure()\n",
    "   plt.plot(E_values.cpu(), gen_func_values_real)\n",
    "   plt.title('Real Part of Generating Function')\n",
    "   plt.xlabel('Energy')\n",
    "   plt.ylabel('Real[Log Det(Ginv_total)]')\n",
    "   plt.show()\n",
    "\n",
    "   # Plot the imaginary part of the generating function\n",
    "   plt.figure()\n",
    "   plt.plot(E_values.cpu(), gen_func_values_imag)\n",
    "   plt.title('Imaginary Part of Generating Function')\n",
    "   plt.xlabel('Energy')\n",
    "   plt.ylabel('Imag[Log Det(Ginv_total)]')\n",
    "   plt.show()\n",
    "\n",
    "   # Plot derivatives if needed\n",
    "   # For example, plot the first-order derivative\n",
    "   first_order_derivative = derivatives['order_1']\n",
    "   plt.figure()\n",
    "   plt.plot(E_values.cpu(), first_order_derivative.numpy())\n",
    "   plt.title('First-order Derivative of Generating Function')\n",
    "   plt.xlabel('Energy')\n",
    "   plt.ylabel('Derivative')\n",
    "   plt.show()\n",
    "   ```\n",
    "\n",
    "8. **Interpret the Results**\n",
    "\n",
    "   Analyze the plots to understand the formation of Landau levels, edge states, and the effect of disorder in the system.\n",
    "\n",
    "**Note:** Ensure that all the functions and classes used are properly defined in your codebase. You might need to adjust the code to match the specific implementations of your `Hamiltonian` and `Lead` classes."
   ]
  }
 ],
 "metadata": {
  "kernelspec": {
   "display_name": "ml",
   "language": "python",
   "name": "python3"
  },
  "language_info": {
   "codemirror_mode": {
    "name": "ipython",
    "version": 3
   },
   "file_extension": ".py",
   "mimetype": "text/x-python",
   "name": "python",
   "nbconvert_exporter": "python",
   "pygments_lexer": "ipython3",
   "version": "3.12.3"
  }
 },
 "nbformat": 4,
 "nbformat_minor": 2
}
