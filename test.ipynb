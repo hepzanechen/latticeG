{
 "cells": [
  {
   "cell_type": "code",
   "execution_count": 1,
   "metadata": {},
   "outputs": [],
   "source": [
    "import torch\n"
   ]
  },
  {
   "cell_type": "code",
   "execution_count": null,
   "metadata": {},
   "outputs": [],
   "source": [
    "\n",
    "# Create a matrix\n",
    "matrix = torch.randn(1000, 1000, device='cuda')  # Use the GPU by specifying device='cuda'\n",
    "\n",
    "# Perform matrix inversion\n",
    "inverted_matrix = torch.linalg.inv(matrix)\n",
    "\n",
    "# Print the result\n",
    "print(inverted_matrix)\n"
   ]
  },
  {
   "cell_type": "code",
   "execution_count": 6,
   "metadata": {},
   "outputs": [
    {
     "data": {
      "text/plain": [
       "device(type='cpu')"
      ]
     },
     "execution_count": 6,
     "metadata": {},
     "output_type": "execute_result"
    }
   ],
   "source": [
    "E.device"
   ]
  },
  {
   "cell_type": "code",
   "execution_count": 9,
   "metadata": {},
   "outputs": [],
   "source": [
    "tensor = torch.tensor([1.0])"
   ]
  },
  {
   "cell_type": "code",
   "execution_count": 10,
   "metadata": {},
   "outputs": [
    {
     "data": {
      "text/plain": [
       "tensor([1.])"
      ]
     },
     "execution_count": 10,
     "metadata": {},
     "output_type": "execute_result"
    }
   ],
   "source": [
    "tensor"
   ]
  },
  {
   "cell_type": "code",
   "execution_count": 11,
   "metadata": {},
   "outputs": [],
   "source": [
    "\n",
    "scalar = tensor.item()"
   ]
  },
  {
   "cell_type": "code",
   "execution_count": 12,
   "metadata": {},
   "outputs": [
    {
     "data": {
      "text/plain": [
       "1.0"
      ]
     },
     "execution_count": 12,
     "metadata": {},
     "output_type": "execute_result"
    }
   ],
   "source": [
    "scalar"
   ]
  },
  {
   "cell_type": "code",
   "execution_count": 9,
   "metadata": {},
   "outputs": [
    {
     "data": {
      "text/plain": [
       "torch.Size([1])"
      ]
     },
     "execution_count": 9,
     "metadata": {},
     "output_type": "execute_result"
    }
   ],
   "source": [
    "E.shape"
   ]
  },
  {
   "cell_type": "code",
   "execution_count": null,
   "metadata": {},
   "outputs": [],
   "source": [
    "E=torch.tensor([1])"
   ]
  },
  {
   "cell_type": "code",
   "execution_count": 33,
   "metadata": {},
   "outputs": [
    {
     "name": "stdout",
     "output_type": "stream",
     "text": [
      "Lead(mu=20, temperature=300, lambda_=0)\n",
      "Lead(mu=-20, temperature=300, lambda_=0)\n",
      "Lead(mu=1, temperature=300, lambda_=0)\n"
     ]
    }
   ],
   "source": [
    "from hamiltonians.lead_hamiltonian import Lead\n",
    "# Example usage\n",
    "mu_values = [20, -20, 1]\n",
    "temperature = 300\n",
    "Ny=10\n",
    "t_lead_central = 15\n",
    "\n",
    "# Create lead objects\n",
    "leads = [Lead(mu, t_lead_central, temperature, Ny,Ny) for mu in mu_values]\n",
    "\n",
    "# Set positions for leads\n",
    "leads[0].position = torch.arange(1, Ny + 1)\n",
    "leads[1].position = leads[0].position + Ny * (Ny - 1)  # Assuming Ny is defined elsewhere\n",
    "leads[2].position = torch.tensor([3 * Ny + 1])\n",
    "\n",
    "# Print lead information for debugging\n",
    "for lead in leads:\n",
    "    print(lead)"
   ]
  },
  {
   "cell_type": "code",
   "execution_count": 34,
   "metadata": {},
   "outputs": [
    {
     "data": {
      "text/plain": [
       "tensor([[ 0., 10.,  0.,  0.,  0.,  0.,  0.,  0.,  0.,  0.],\n",
       "        [10.,  0., 10.,  0.,  0.,  0.,  0.,  0.,  0.,  0.],\n",
       "        [ 0., 10.,  0., 10.,  0.,  0.,  0.,  0.,  0.,  0.],\n",
       "        [ 0.,  0., 10.,  0., 10.,  0.,  0.,  0.,  0.,  0.],\n",
       "        [ 0.,  0.,  0., 10.,  0., 10.,  0.,  0.,  0.,  0.],\n",
       "        [ 0.,  0.,  0.,  0., 10.,  0., 10.,  0.,  0.,  0.],\n",
       "        [ 0.,  0.,  0.,  0.,  0., 10.,  0., 10.,  0.,  0.],\n",
       "        [ 0.,  0.,  0.,  0.,  0.,  0., 10.,  0., 10.,  0.],\n",
       "        [ 0.,  0.,  0.,  0.,  0.,  0.,  0., 10.,  0., 10.],\n",
       "        [ 0.,  0.,  0.,  0.,  0.,  0.,  0.,  0., 10.,  0.]])"
      ]
     },
     "execution_count": 34,
     "metadata": {},
     "output_type": "execute_result"
    }
   ],
   "source": [
    "leads[0].epsilon0"
   ]
  },
  {
   "cell_type": "code",
   "execution_count": 28,
   "metadata": {},
   "outputs": [
    {
     "name": "stdout",
     "output_type": "stream",
     "text": [
      "Retarded Greens function:\n",
      "tensor([[-0.0011-0.0500j,  0.0000-0.0000j],\n",
      "        [ 0.0000-0.0000j, -0.0011-0.0500j]])\n",
      "Advanced Greens function:\n",
      "tensor([[-0.0011+0.0500j,  0.0000+0.0000j],\n",
      "        [ 0.0000+0.0000j, -0.0011+0.0500j]])\n",
      "Lesser Greens function:\n",
      "tensor([[0.+0.0999j, 0.+0.0000j],\n",
      "        [0.+0.0000j, 0.+0.0999j]])\n",
      "Greater Greens function:\n",
      "tensor([[0.+0.j, 0.+0.j],\n",
      "        [0.+0.j, 0.+0.j]])\n",
      "Elapsed time: 0.0365 seconds\n"
     ]
    }
   ],
   "source": [
    "from utils.lead_decimation import lead_decimation\n",
    "from utils.fermi_distribution import fermi_distribution\n",
    "from time import time\n",
    "# Define parameters\n",
    "t = torch.tensor([[20.0, 0.0], [0.0, 20.0]],dtype=torch.complex64,device='cpu' if torch.cuda.is_available() else 'cpu')\n",
    "epsilon0 = torch.tensor([[1.0, 0.0], [0.0, 1.0]], dtype=torch.complex64, device=t.device)\n",
    "E = torch.tensor(0.1)\n",
    "mu = torch.tensor(0.2)\n",
    "temperature = torch.tensor(1e-6)\n",
    "particle_type = 'e'\n",
    "\n",
    "# Time the function execution\n",
    "start_time = time()\n",
    "\n",
    "# Call lead_decimation to calculate Green's functions\n",
    "gLr, gLa, gLless, gLmore = lead_decimation(E, t, epsilon0, mu, temperature, particle_type)\n",
    "elapsed_time = time() - start_time\n",
    "# Display results\n",
    "print('Retarded Greens function:')\n",
    "print(gLr)\n",
    "\n",
    "print('Advanced Greens function:')\n",
    "print(gLa)\n",
    "\n",
    "print('Lesser Greens function:')\n",
    "print(gLless)\n",
    "\n",
    "print('Greater Greens function:')\n",
    "print(gLmore)\n",
    "\n",
    "print(f'Elapsed time: {elapsed_time:.4f} seconds')"
   ]
  }
 ],
 "metadata": {
  "kernelspec": {
   "display_name": "ml",
   "language": "python",
   "name": "python3"
  },
  "language_info": {
   "codemirror_mode": {
    "name": "ipython",
    "version": 3
   },
   "file_extension": ".py",
   "mimetype": "text/x-python",
   "name": "python",
   "nbconvert_exporter": "python",
   "pygments_lexer": "ipython3",
   "version": "3.12.3"
  }
 },
 "nbformat": 4,
 "nbformat_minor": 2
}
